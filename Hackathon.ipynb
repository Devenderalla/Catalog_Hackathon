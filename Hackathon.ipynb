{
  "nbformat": 4,
  "nbformat_minor": 0,
  "metadata": {
    "colab": {
      "provenance": [],
      "authorship_tag": "ABX9TyMiVNHhWvSHgJvyisQ6yfu9",
      "include_colab_link": true
    },
    "kernelspec": {
      "name": "python3",
      "display_name": "Python 3"
    },
    "language_info": {
      "name": "python"
    }
  },
  "cells": [
    {
      "cell_type": "markdown",
      "metadata": {
        "id": "view-in-github",
        "colab_type": "text"
      },
      "source": [
        "<a href=\"https://colab.research.google.com/github/Devenderalla/Catalog_Hackathon/blob/main/Hackathon.ipynb\" target=\"_parent\"><img src=\"https://colab.research.google.com/assets/colab-badge.svg\" alt=\"Open In Colab\"/></a>"
      ]
    },
    {
      "cell_type": "code",
      "execution_count": 3,
      "metadata": {
        "id": "HYdFkCGZ0OdH",
        "colab": {
          "base_uri": "https://localhost:8080/"
        },
        "outputId": "8af3c795-fb87-4554-897f-d547bb1e0ea1"
      },
      "outputs": [
        {
          "output_type": "stream",
          "name": "stdout",
          "text": [
            "Welcome to the Three-Level Password System\n",
            "Enter your password: Gitam@1234\n",
            "\n",
            "Enter your pattern based password (Example: 1235 for a 3x3 grid)\n",
            "Enter pattern password: 7896\n",
            "\n",
            "CAPTCHA: GBj3zc\n",
            "Enter the CAPTCHA: GBj3zc\n",
            "Access Granted. All security levels passed!\n"
          ]
        }
      ],
      "source": [
        "import re\n",
        "import random\n",
        "import string\n",
        "\n",
        "\n",
        "def validate_password(password):\n",
        "\n",
        "    if (\n",
        "        len(password) >= 8\n",
        "        and re.search(r\"[A-Z]\", password)\n",
        "        and re.search(r\"[a-z]\", password)\n",
        "        and re.search(r\"[0-9]\", password)\n",
        "        and re.search(r'[!@#$%^&*(),.?\":{}|<>]', password)\n",
        "    ):\n",
        "        return True\n",
        "    return False\n",
        "\n",
        "\n",
        "def validate_pattern(password_pattern):\n",
        "\n",
        "    valid_patterns = [\"1235\", \"7896\", \"4569\"]\n",
        "    if password_pattern in valid_patterns:\n",
        "        return True\n",
        "    return False\n",
        "\n",
        "\n",
        "def generate_captcha():\n",
        "    letters = string.ascii_letters + string.digits\n",
        "    captcha = \"\".join(random.choice(letters) for _ in range(6))\n",
        "    return captcha\n",
        "\n",
        "\n",
        "def verify_captcha(input_captcha, generated_captcha):\n",
        "    if input_captcha == generated_captcha:\n",
        "        return True\n",
        "    return False\n",
        "\n",
        "\n",
        "def three_level_password_system():\n",
        "    print(\"Welcome to the Three-Level Password System\")\n",
        "\n",
        "    password = input(\"Enter your password: \")\n",
        "    if not validate_password(password):\n",
        "        print(\n",
        "            \"Invalid Password. Must be at least 8 characters long, include uppercase, lowercase, digits, and special characters.\"\n",
        "        )\n",
        "        return\n",
        "\n",
        "    print(\"\\nEnter your pattern based password (Example: 1235 for a 3x3 grid)\")\n",
        "    password_pattern = input(\"Enter pattern password: \")\n",
        "    if not validate_pattern(password_pattern):\n",
        "        print(\"Invalid Pattern Password.\")\n",
        "        return\n",
        "\n",
        "    generated_captcha = generate_captcha()\n",
        "    print(f\"\\nCAPTCHA: {generated_captcha}\")\n",
        "    input_captcha = input(\"Enter the CAPTCHA: \")\n",
        "    if not verify_captcha(input_captcha, generated_captcha):\n",
        "        print(\"CAPTCHA Verification Failed.\")\n",
        "        return\n",
        "\n",
        "    print(\"Access Granted. All security levels passed!\")\n",
        "\n",
        "\n",
        "three_level_password_system()"
      ]
    }
  ]
}